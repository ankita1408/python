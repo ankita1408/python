{
 "cells": [
  {
   "cell_type": "markdown",
   "id": "a58e1734",
   "metadata": {},
   "source": [
    "## set"
   ]
  },
  {
   "cell_type": "code",
   "execution_count": 1,
   "id": "5de6b26f",
   "metadata": {},
   "outputs": [],
   "source": [
    "## unordered and iterable\n",
    "## mutable\n",
    "## no duplicate\n",
    "# hash table\n"
   ]
  },
  {
   "cell_type": "code",
   "execution_count": 5,
   "id": "cf5f599d",
   "metadata": {},
   "outputs": [
    {
     "name": "stdout",
     "output_type": "stream",
     "text": [
      "set()\n",
      "<class 'set'>\n"
     ]
    }
   ],
   "source": [
    "set_var=set()\n",
    "print(set_var)\n",
    "print(type(set_var))"
   ]
  },
  {
   "cell_type": "code",
   "execution_count": 7,
   "id": "f1eac0d5",
   "metadata": {},
   "outputs": [
    {
     "name": "stdout",
     "output_type": "stream",
     "text": [
      "{'Ankita', 'Harry', 'Potter'}\n"
     ]
    },
    {
     "data": {
      "text/plain": [
       "set"
      ]
     },
     "execution_count": 7,
     "metadata": {},
     "output_type": "execute_result"
    }
   ],
   "source": [
    "set_var={\"Harry\",\"Potter\",\"Ankita\"}\n",
    "print(set_var)\n",
    "type(set_var)"
   ]
  },
  {
   "cell_type": "code",
   "execution_count": 10,
   "id": "cdd0af62",
   "metadata": {},
   "outputs": [
    {
     "name": "stdout",
     "output_type": "stream",
     "text": [
      "{'hulk', 'Ankita', 'Harry', 'Potter'}\n"
     ]
    }
   ],
   "source": [
    "#add\n",
    "set_var.add(\"hulk\")\n",
    "print(set_var)"
   ]
  },
  {
   "cell_type": "code",
   "execution_count": null,
   "id": "c4317ad7",
   "metadata": {},
   "outputs": [],
   "source": [
    "#indexxing\n",
    "## its doesnot support index"
   ]
  },
  {
   "cell_type": "code",
   "execution_count": 11,
   "id": "f0a8017e",
   "metadata": {},
   "outputs": [
    {
     "data": {
      "text/plain": [
       "{'Biradar'}"
      ]
     },
     "execution_count": 11,
     "metadata": {},
     "output_type": "execute_result"
    }
   ],
   "source": [
    "set2={\"Ankita\",\"Biradar\"}\n",
    "set2.difference(set_var)"
   ]
  },
  {
   "cell_type": "code",
   "execution_count": 13,
   "id": "208c12fa",
   "metadata": {},
   "outputs": [
    {
     "data": {
      "text/plain": [
       "{'Ankita'}"
      ]
     },
     "execution_count": 13,
     "metadata": {},
     "output_type": "execute_result"
    }
   ],
   "source": [
    "set2.intersection(set_var)"
   ]
  },
  {
   "cell_type": "markdown",
   "id": "ddb5bb4f",
   "metadata": {},
   "source": [
    "## dictionaries"
   ]
  },
  {
   "cell_type": "code",
   "execution_count": 15,
   "id": "f0d008fc",
   "metadata": {},
   "outputs": [],
   "source": [
    "# collection\n",
    "# unordered\n",
    "# unchangeable\n",
    "#  key value pair"
   ]
  },
  {
   "cell_type": "code",
   "execution_count": 16,
   "id": "f2ab77bd",
   "metadata": {},
   "outputs": [],
   "source": [
    "dic={}"
   ]
  },
  {
   "cell_type": "code",
   "execution_count": 17,
   "id": "48789770",
   "metadata": {},
   "outputs": [
    {
     "data": {
      "text/plain": [
       "dict"
      ]
     },
     "execution_count": 17,
     "metadata": {},
     "output_type": "execute_result"
    }
   ],
   "source": [
    "type(dic)"
   ]
  },
  {
   "cell_type": "code",
   "execution_count": 18,
   "id": "f7390271",
   "metadata": {},
   "outputs": [],
   "source": [
    "d1={\"car1\":\"audi\",\"car2\":\"bmw\",\"car3\":\n",
    "   \"merciedes\"}"
   ]
  },
  {
   "cell_type": "code",
   "execution_count": 19,
   "id": "7793d724",
   "metadata": {},
   "outputs": [
    {
     "data": {
      "text/plain": [
       "dict"
      ]
     },
     "execution_count": 19,
     "metadata": {},
     "output_type": "execute_result"
    }
   ],
   "source": [
    "type(d1)"
   ]
  },
  {
   "cell_type": "code",
   "execution_count": 21,
   "id": "fc8d1c59",
   "metadata": {},
   "outputs": [
    {
     "data": {
      "text/plain": [
       "'merciedes'"
      ]
     },
     "execution_count": 21,
     "metadata": {},
     "output_type": "execute_result"
    }
   ],
   "source": [
    "d1[\"car3\"]"
   ]
  },
  {
   "cell_type": "code",
   "execution_count": 25,
   "id": "3cfdce24",
   "metadata": {},
   "outputs": [
    {
     "name": "stdout",
     "output_type": "stream",
     "text": [
      "audi\n",
      "bmw\n",
      "merciedes\n"
     ]
    }
   ],
   "source": [
    "for x in d1.values():\n",
    "    print(x)"
   ]
  },
  {
   "cell_type": "code",
   "execution_count": 27,
   "id": "4cc4170d",
   "metadata": {},
   "outputs": [
    {
     "name": "stdout",
     "output_type": "stream",
     "text": [
      "('car1', 'audi')\n",
      "('car2', 'bmw')\n",
      "('car3', 'merciedes')\n"
     ]
    }
   ],
   "source": [
    "for x in d1.items():\n",
    "    print(x)"
   ]
  },
  {
   "cell_type": "code",
   "execution_count": 28,
   "id": "df3da206",
   "metadata": {},
   "outputs": [
    {
     "name": "stdout",
     "output_type": "stream",
     "text": [
      "car1\n",
      "car2\n",
      "car3\n"
     ]
    }
   ],
   "source": [
    "for x in d1:\n",
    "    print(x)"
   ]
  },
  {
   "cell_type": "markdown",
   "id": "98eab001",
   "metadata": {},
   "source": [
    "## Nested Dictionary"
   ]
  },
  {
   "cell_type": "code",
   "execution_count": 29,
   "id": "4b2ab3f5",
   "metadata": {},
   "outputs": [],
   "source": [
    "car1_model={\"mercedes\":1990}\n",
    "car2_model={\"audi\":1220}\n",
    "car3_model={\"bmw\":2000}\n",
    "\n",
    "car_type={\"car1\":car1_model,\"car2\":car2_model,\"car3\":car3_model}\n"
   ]
  },
  {
   "cell_type": "code",
   "execution_count": 30,
   "id": "b4f60505",
   "metadata": {},
   "outputs": [
    {
     "name": "stdout",
     "output_type": "stream",
     "text": [
      "{'car1': {'mercedes': 1990}, 'car2': {'audi': 1220}, 'car3': {'bmw': 2000}}\n"
     ]
    }
   ],
   "source": [
    "print(car_type)"
   ]
  },
  {
   "cell_type": "code",
   "execution_count": 31,
   "id": "186e753d",
   "metadata": {},
   "outputs": [
    {
     "name": "stdout",
     "output_type": "stream",
     "text": [
      "{'mercedes': 1990}\n"
     ]
    }
   ],
   "source": [
    "print(car_type['car1'])"
   ]
  },
  {
   "cell_type": "code",
   "execution_count": 32,
   "id": "5ea64fe1",
   "metadata": {},
   "outputs": [
    {
     "name": "stdout",
     "output_type": "stream",
     "text": [
      "1990\n"
     ]
    }
   ],
   "source": [
    "print(car_type['car1']['mercedes'])"
   ]
  },
  {
   "cell_type": "markdown",
   "id": "1fbb189e",
   "metadata": {},
   "source": [
    "## Tuple"
   ]
  },
  {
   "cell_type": "code",
   "execution_count": 33,
   "id": "dcc006ed",
   "metadata": {},
   "outputs": [],
   "source": [
    "# not mutable\n"
   ]
  },
  {
   "cell_type": "code",
   "execution_count": 34,
   "id": "9b7deea4",
   "metadata": {},
   "outputs": [],
   "source": [
    "my_tuple=tuple()"
   ]
  },
  {
   "cell_type": "code",
   "execution_count": 35,
   "id": "65d625be",
   "metadata": {},
   "outputs": [
    {
     "data": {
      "text/plain": [
       "tuple"
      ]
     },
     "execution_count": 35,
     "metadata": {},
     "output_type": "execute_result"
    }
   ],
   "source": [
    "type(my_tuple)"
   ]
  },
  {
   "cell_type": "code",
   "execution_count": 36,
   "id": "ca4d539e",
   "metadata": {},
   "outputs": [],
   "source": [
    "t1=('Ankita','Madhukar','Biradar')"
   ]
  },
  {
   "cell_type": "code",
   "execution_count": 37,
   "id": "bd0ae1f7",
   "metadata": {},
   "outputs": [
    {
     "ename": "TypeError",
     "evalue": "'tuple' object does not support item assignment",
     "output_type": "error",
     "traceback": [
      "\u001b[1;31m---------------------------------------------------------------------------\u001b[0m",
      "\u001b[1;31mTypeError\u001b[0m                                 Traceback (most recent call last)",
      "\u001b[1;32m~\\AppData\\Local\\Temp/ipykernel_3904/1944160017.py\u001b[0m in \u001b[0;36m<module>\u001b[1;34m\u001b[0m\n\u001b[1;32m----> 1\u001b[1;33m \u001b[0mt1\u001b[0m\u001b[1;33m[\u001b[0m\u001b[1;36m0\u001b[0m\u001b[1;33m]\u001b[0m\u001b[1;33m=\u001b[0m\u001b[1;36m111\u001b[0m\u001b[1;33m\u001b[0m\u001b[1;33m\u001b[0m\u001b[0m\n\u001b[0m",
      "\u001b[1;31mTypeError\u001b[0m: 'tuple' object does not support item assignment"
     ]
    }
   ],
   "source": [
    "t1[0]=111"
   ]
  },
  {
   "cell_type": "code",
   "execution_count": 40,
   "id": "6de8a7d5",
   "metadata": {},
   "outputs": [
    {
     "data": {
      "text/plain": [
       "1"
      ]
     },
     "execution_count": 40,
     "metadata": {},
     "output_type": "execute_result"
    }
   ],
   "source": [
    "t1.count('Ankita')"
   ]
  },
  {
   "cell_type": "code",
   "execution_count": null,
   "id": "68a8f81d",
   "metadata": {},
   "outputs": [],
   "source": []
  },
  {
   "cell_type": "code",
   "execution_count": null,
   "id": "a9227d71",
   "metadata": {},
   "outputs": [],
   "source": []
  }
 ],
 "metadata": {
  "kernelspec": {
   "display_name": "Python 3 (ipykernel)",
   "language": "python",
   "name": "python3"
  },
  "language_info": {
   "codemirror_mode": {
    "name": "ipython",
    "version": 3
   },
   "file_extension": ".py",
   "mimetype": "text/x-python",
   "name": "python",
   "nbconvert_exporter": "python",
   "pygments_lexer": "ipython3",
   "version": "3.9.7"
  }
 },
 "nbformat": 4,
 "nbformat_minor": 5
}
