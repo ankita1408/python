{
 "cells": [
  {
   "cell_type": "markdown",
   "id": "b9ca10d0",
   "metadata": {},
   "source": [
    "## string format in python"
   ]
  },
  {
   "cell_type": "code",
   "execution_count": 1,
   "id": "8bd2da62",
   "metadata": {},
   "outputs": [
    {
     "name": "stdout",
     "output_type": "stream",
     "text": [
      "hello\n"
     ]
    }
   ],
   "source": [
    "print('hello')"
   ]
  },
  {
   "cell_type": "code",
   "execution_count": 2,
   "id": "f3751df4",
   "metadata": {},
   "outputs": [],
   "source": [
    "str='hello'"
   ]
  },
  {
   "cell_type": "code",
   "execution_count": 8,
   "id": "6ab7c47b",
   "metadata": {},
   "outputs": [],
   "source": [
    "def greeting(name):\n",
    "    return \"hello {} Welcome to the community\".format(name)"
   ]
  },
  {
   "cell_type": "code",
   "execution_count": 9,
   "id": "a9fa9423",
   "metadata": {},
   "outputs": [
    {
     "data": {
      "text/plain": [
       "'hello Ankita Welcome to the community'"
      ]
     },
     "execution_count": 9,
     "metadata": {},
     "output_type": "execute_result"
    }
   ],
   "source": [
    "greeting(\"Ankita\")"
   ]
  },
  {
   "cell_type": "code",
   "execution_count": 10,
   "id": "86f1b9e7",
   "metadata": {},
   "outputs": [],
   "source": [
    "def welcome(first,age):\n",
    "    return \"welcome {} . your age is {}\".format(first,age)"
   ]
  },
  {
   "cell_type": "code",
   "execution_count": 12,
   "id": "9d3cec96",
   "metadata": {},
   "outputs": [
    {
     "data": {
      "text/plain": [
       "'welcome ankita . your age is 23'"
      ]
     },
     "execution_count": 12,
     "metadata": {},
     "output_type": "execute_result"
    }
   ],
   "source": [
    "welcome(\"ankita\",23)"
   ]
  },
  {
   "cell_type": "code",
   "execution_count": null,
   "id": "c2f814a1",
   "metadata": {},
   "outputs": [],
   "source": []
  },
  {
   "cell_type": "code",
   "execution_count": null,
   "id": "b92683b6",
   "metadata": {},
   "outputs": [],
   "source": []
  },
  {
   "cell_type": "code",
   "execution_count": null,
   "id": "4894dc87",
   "metadata": {},
   "outputs": [],
   "source": []
  }
 ],
 "metadata": {
  "kernelspec": {
   "display_name": "Python 3 (ipykernel)",
   "language": "python",
   "name": "python3"
  },
  "language_info": {
   "codemirror_mode": {
    "name": "ipython",
    "version": 3
   },
   "file_extension": ".py",
   "mimetype": "text/x-python",
   "name": "python",
   "nbconvert_exporter": "python",
   "pygments_lexer": "ipython3",
   "version": "3.9.7"
  }
 },
 "nbformat": 4,
 "nbformat_minor": 5
}
