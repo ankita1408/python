{
 "cells": [
  {
   "cell_type": "markdown",
   "id": "8e8a8181",
   "metadata": {},
   "source": [
    "## Map function"
   ]
  },
  {
   "cell_type": "code",
   "execution_count": 39,
   "id": "e39af4e2",
   "metadata": {},
   "outputs": [],
   "source": [
    "def even_odd(num):\n",
    "    if num%2==0:\n",
    "        return 'even{}'.format(num)\n",
    "    else:\n",
    "        return 'odd{}'.format(num)"
   ]
  },
  {
   "cell_type": "code",
   "execution_count": 40,
   "id": "49efa83d",
   "metadata": {},
   "outputs": [
    {
     "data": {
      "text/plain": [
       "'odd13'"
      ]
     },
     "execution_count": 40,
     "metadata": {},
     "output_type": "execute_result"
    }
   ],
   "source": [
    "even_odd(13)"
   ]
  },
  {
   "cell_type": "code",
   "execution_count": 41,
   "id": "05bd5353",
   "metadata": {},
   "outputs": [],
   "source": [
    "lst=[12,23,43,46,75,89,1,21,45]"
   ]
  },
  {
   "cell_type": "code",
   "execution_count": 47,
   "id": "793d32b8",
   "metadata": {},
   "outputs": [
    {
     "data": {
      "text/plain": [
       "{'even12',\n",
       " 'even46',\n",
       " 'odd1',\n",
       " 'odd21',\n",
       " 'odd23',\n",
       " 'odd43',\n",
       " 'odd45',\n",
       " 'odd75',\n",
       " 'odd89'}"
      ]
     },
     "execution_count": 47,
     "metadata": {},
     "output_type": "execute_result"
    }
   ],
   "source": [
    "set(map(even_odd,lst))"
   ]
  },
  {
   "cell_type": "code",
   "execution_count": null,
   "id": "3056f583",
   "metadata": {},
   "outputs": [],
   "source": []
  },
  {
   "cell_type": "code",
   "execution_count": null,
   "id": "7449cff1",
   "metadata": {},
   "outputs": [],
   "source": []
  },
  {
   "cell_type": "code",
   "execution_count": null,
   "id": "41f4c1c8",
   "metadata": {},
   "outputs": [],
   "source": []
  },
  {
   "cell_type": "code",
   "execution_count": null,
   "id": "8cf365ce",
   "metadata": {},
   "outputs": [],
   "source": []
  }
 ],
 "metadata": {
  "kernelspec": {
   "display_name": "Python 3 (ipykernel)",
   "language": "python",
   "name": "python3"
  },
  "language_info": {
   "codemirror_mode": {
    "name": "ipython",
    "version": 3
   },
   "file_extension": ".py",
   "mimetype": "text/x-python",
   "name": "python",
   "nbconvert_exporter": "python",
   "pygments_lexer": "ipython3",
   "version": "3.9.7"
  }
 },
 "nbformat": 4,
 "nbformat_minor": 5
}
