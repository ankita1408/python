{
 "cells": [
  {
   "cell_type": "markdown",
   "id": "fbc5e075",
   "metadata": {},
   "source": [
    "## Python Tutorials"
   ]
  },
  {
   "cell_type": "code",
   "execution_count": 1,
   "id": "cc07eb7a",
   "metadata": {},
   "outputs": [],
   "source": [
    "#basic data types"
   ]
  },
  {
   "cell_type": "code",
   "execution_count": 5,
   "id": "8213822a",
   "metadata": {},
   "outputs": [
    {
     "data": {
      "text/plain": [
       "2"
      ]
     },
     "execution_count": 5,
     "metadata": {},
     "output_type": "execute_result"
    }
   ],
   "source": [
    "1+1 #addition"
   ]
  },
  {
   "cell_type": "code",
   "execution_count": 6,
   "id": "f61d76c8",
   "metadata": {},
   "outputs": [
    {
     "data": {
      "text/plain": [
       "32"
      ]
     },
     "execution_count": 6,
     "metadata": {},
     "output_type": "execute_result"
    }
   ],
   "source": [
    "4*8 # multipliucation"
   ]
  },
  {
   "cell_type": "code",
   "execution_count": 7,
   "id": "0ce341f8",
   "metadata": {},
   "outputs": [
    {
     "data": {
      "text/plain": [
       "5.0"
      ]
     },
     "execution_count": 7,
     "metadata": {},
     "output_type": "execute_result"
    }
   ],
   "source": [
    "10/2 #divide"
   ]
  },
  {
   "cell_type": "code",
   "execution_count": 9,
   "id": "120270c8",
   "metadata": {},
   "outputs": [
    {
     "data": {
      "text/plain": [
       "28"
      ]
     },
     "execution_count": 9,
     "metadata": {},
     "output_type": "execute_result"
    }
   ],
   "source": [
    "30-2 # subtract"
   ]
  },
  {
   "cell_type": "code",
   "execution_count": 10,
   "id": "d5a17d08",
   "metadata": {},
   "outputs": [
    {
     "data": {
      "text/plain": [
       "0"
      ]
     },
     "execution_count": 10,
     "metadata": {},
     "output_type": "execute_result"
    }
   ],
   "source": [
    "10%2 #modul"
   ]
  },
  {
   "cell_type": "code",
   "execution_count": 11,
   "id": "c5a48f97",
   "metadata": {},
   "outputs": [
    {
     "data": {
      "text/plain": [
       "1000"
      ]
     },
     "execution_count": 11,
     "metadata": {},
     "output_type": "execute_result"
    }
   ],
   "source": [
    "10**3 #power"
   ]
  },
  {
   "cell_type": "code",
   "execution_count": 12,
   "id": "5ffd63cb",
   "metadata": {},
   "outputs": [],
   "source": [
    "#check the datatype"
   ]
  },
  {
   "cell_type": "code",
   "execution_count": 16,
   "id": "e0874af1",
   "metadata": {},
   "outputs": [
    {
     "data": {
      "text/plain": [
       "int"
      ]
     },
     "execution_count": 16,
     "metadata": {},
     "output_type": "execute_result"
    }
   ],
   "source": [
    "type(1) \n"
   ]
  },
  {
   "cell_type": "code",
   "execution_count": 15,
   "id": "eac8e8d0",
   "metadata": {},
   "outputs": [
    {
     "data": {
      "text/plain": [
       "str"
      ]
     },
     "execution_count": 15,
     "metadata": {},
     "output_type": "execute_result"
    }
   ],
   "source": [
    "type(\"s\")"
   ]
  },
  {
   "cell_type": "code",
   "execution_count": 18,
   "id": "80e6a518",
   "metadata": {},
   "outputs": [
    {
     "data": {
      "text/plain": [
       "bool"
      ]
     },
     "execution_count": 18,
     "metadata": {},
     "output_type": "execute_result"
    }
   ],
   "source": [
    "type(True)"
   ]
  },
  {
   "cell_type": "markdown",
   "id": "71718040",
   "metadata": {},
   "source": [
    "### string"
   ]
  },
  {
   "cell_type": "code",
   "execution_count": 19,
   "id": "90c4d374",
   "metadata": {},
   "outputs": [
    {
     "data": {
      "text/plain": [
       "'Hi'"
      ]
     },
     "execution_count": 19,
     "metadata": {},
     "output_type": "execute_result"
    }
   ],
   "source": [
    "  \"Hi\""
   ]
  },
  {
   "cell_type": "code",
   "execution_count": 20,
   "id": "3960443c",
   "metadata": {},
   "outputs": [
    {
     "data": {
      "text/plain": [
       "'Ankita Biradar'"
      ]
     },
     "execution_count": 20,
     "metadata": {},
     "output_type": "execute_result"
    }
   ],
   "source": [
    "'Ankita Biradar'"
   ]
  },
  {
   "cell_type": "code",
   "execution_count": 21,
   "id": "2d52e832",
   "metadata": {},
   "outputs": [
    {
     "data": {
      "text/plain": [
       "str"
      ]
     },
     "execution_count": 21,
     "metadata": {},
     "output_type": "execute_result"
    }
   ],
   "source": [
    "type(\"Hi\")"
   ]
  },
  {
   "cell_type": "markdown",
   "id": "ad49ce5f",
   "metadata": {},
   "source": [
    "### variable assignment"
   ]
  },
  {
   "cell_type": "code",
   "execution_count": 22,
   "id": "f875c651",
   "metadata": {},
   "outputs": [],
   "source": [
    "a=20"
   ]
  },
  {
   "cell_type": "code",
   "execution_count": 23,
   "id": "7352f4d9",
   "metadata": {},
   "outputs": [
    {
     "data": {
      "text/plain": [
       "int"
      ]
     },
     "execution_count": 23,
     "metadata": {},
     "output_type": "execute_result"
    }
   ],
   "source": [
    "type(a)"
   ]
  },
  {
   "cell_type": "code",
   "execution_count": 24,
   "id": "a54537cd",
   "metadata": {},
   "outputs": [],
   "source": [
    "a='Ankita Biradar'"
   ]
  },
  {
   "cell_type": "code",
   "execution_count": 25,
   "id": "4be58e7e",
   "metadata": {},
   "outputs": [
    {
     "data": {
      "text/plain": [
       "str"
      ]
     },
     "execution_count": 25,
     "metadata": {},
     "output_type": "execute_result"
    }
   ],
   "source": [
    "type(a)"
   ]
  },
  {
   "cell_type": "code",
   "execution_count": 27,
   "id": "cbcdc77a",
   "metadata": {},
   "outputs": [],
   "source": [
    "a=20\n",
    "b=5"
   ]
  },
  {
   "cell_type": "code",
   "execution_count": 28,
   "id": "2dead485",
   "metadata": {},
   "outputs": [
    {
     "name": "stdout",
     "output_type": "stream",
     "text": [
      "100\n",
      "4.0\n",
      "0\n",
      "100.0\n"
     ]
    }
   ],
   "source": [
    "print(a*b)\n",
    "print(a/b)\n",
    "print(a%b)\n",
    "print((a+b)*(a/b))"
   ]
  },
  {
   "cell_type": "code",
   "execution_count": 29,
   "id": "2905c2a0",
   "metadata": {},
   "outputs": [
    {
     "name": "stdout",
     "output_type": "stream",
     "text": [
      "hello\n"
     ]
    }
   ],
   "source": [
    "print(\"hello\") ## printing way of string"
   ]
  },
  {
   "cell_type": "code",
   "execution_count": 31,
   "id": "0886eadc",
   "metadata": {},
   "outputs": [],
   "source": [
    "first_name=\"Ankita\"\n",
    "last_name=\"Biradar\""
   ]
  },
  {
   "cell_type": "code",
   "execution_count": 34,
   "id": "0b2a1237",
   "metadata": {},
   "outputs": [
    {
     "name": "stdout",
     "output_type": "stream",
     "text": [
      "my first name Ankita and my last name Biradar\n"
     ]
    }
   ],
   "source": [
    "print(\"my first name {first} and my last name {last}\".format(first=first_name,last=last_name))"
   ]
  },
  {
   "cell_type": "code",
   "execution_count": null,
   "id": "a5c4cd07",
   "metadata": {},
   "outputs": [],
   "source": []
  },
  {
   "cell_type": "code",
   "execution_count": null,
   "id": "e703b46e",
   "metadata": {},
   "outputs": [],
   "source": []
  },
  {
   "cell_type": "code",
   "execution_count": null,
   "id": "4e6a6fa9",
   "metadata": {},
   "outputs": [],
   "source": []
  },
  {
   "cell_type": "code",
   "execution_count": null,
   "id": "31c32537",
   "metadata": {},
   "outputs": [],
   "source": []
  },
  {
   "cell_type": "code",
   "execution_count": null,
   "id": "31530605",
   "metadata": {},
   "outputs": [],
   "source": []
  },
  {
   "cell_type": "code",
   "execution_count": null,
   "id": "4a24a645",
   "metadata": {},
   "outputs": [],
   "source": []
  },
  {
   "cell_type": "code",
   "execution_count": null,
   "id": "398dfb5c",
   "metadata": {},
   "outputs": [],
   "source": []
  }
 ],
 "metadata": {
  "kernelspec": {
   "display_name": "Python 3 (ipykernel)",
   "language": "python",
   "name": "python3"
  },
  "language_info": {
   "codemirror_mode": {
    "name": "ipython",
    "version": 3
   },
   "file_extension": ".py",
   "mimetype": "text/x-python",
   "name": "python",
   "nbconvert_exporter": "python",
   "pygments_lexer": "ipython3",
   "version": "3.9.7"
  }
 },
 "nbformat": 4,
 "nbformat_minor": 5
}
